{
 "cells": [
  {
   "cell_type": "markdown",
   "id": "fa1c4a15-83d3-4e86-bd00-c8791b97d023",
   "metadata": {
    "tags": []
   },
   "source": [
    "#### Task 2 : Design a classification system using Neural Networks - CNN, LSTM' s, etc - whichever you feel is relevant. *"
   ]
  },
  {
   "cell_type": "markdown",
   "id": "71d6a4f7-8aa2-4beb-8635-87e7f2d2361b",
   "metadata": {},
   "source": [
    "### Importing Libraries"
   ]
  },
  {
   "cell_type": "code",
   "execution_count": 54,
   "id": "cf145da4-b418-45be-a07f-6bedad9d23be",
   "metadata": {
    "tags": []
   },
   "outputs": [],
   "source": [
    "import numpy as np\n",
    "import pandas as pd\n",
    "import seaborn as sns\n",
    "import matplotlib.pyplot as plt\n",
    "import nltk \n",
    "from nltk.stem import PorterStemmer\n",
    "from nltk.corpus import stopwords \n",
    "from nltk.tokenize import sent_tokenize, word_tokenize\n",
    "import random\n",
    "import pandas as pd\n",
    "import re\n",
    "from sklearn.metrics import confusion_matrix\n",
    "from sklearn.feature_extraction.text import TfidfVectorizer\n",
    "from sklearn_crfsuite import metrics\n",
    "import wordcloud\n",
    "from PIL import Image\n",
    "from wordcloud import WordCloud, STOPWORDS, ImageColorGenerator\n",
    "from sklearn.linear_model import LogisticRegression\n",
    "from sklearn.metrics import accuracy_score\n",
    "import tensorflow as tf\n",
    "from keras.layers import Bidirectional, Concatenate, Dot, Input, LSTM, Dropout\n",
    "from keras.layers import RepeatVector, Dense, Activation, BatchNormalization\n",
    "from sklearn.feature_extraction.text import TfidfVectorizer"
   ]
  },
  {
   "cell_type": "markdown",
   "id": "53c58e77-42f1-41df-aa86-0ac6f42b3551",
   "metadata": {},
   "source": [
    "### Step 1 : Loading and Reading data"
   ]
  },
  {
   "cell_type": "code",
   "execution_count": 57,
   "id": "41ab0a05-1abc-4717-8239-ace2cb8ae053",
   "metadata": {
    "tags": []
   },
   "outputs": [],
   "source": [
    "# Reading the training data\n",
    "train_df = pd.read_csv('/Users/aasthatandon/jigsaw-toxic-comment-classification-challenge/train.csv')"
   ]
  },
  {
   "cell_type": "code",
   "execution_count": 58,
   "id": "77be126b-f036-4b79-bd47-f01a45abef07",
   "metadata": {
    "tags": []
   },
   "outputs": [
    {
     "data": {
      "text/html": [
       "<div>\n",
       "<style scoped>\n",
       "    .dataframe tbody tr th:only-of-type {\n",
       "        vertical-align: middle;\n",
       "    }\n",
       "\n",
       "    .dataframe tbody tr th {\n",
       "        vertical-align: top;\n",
       "    }\n",
       "\n",
       "    .dataframe thead th {\n",
       "        text-align: right;\n",
       "    }\n",
       "</style>\n",
       "<table border=\"1\" class=\"dataframe\">\n",
       "  <thead>\n",
       "    <tr style=\"text-align: right;\">\n",
       "      <th></th>\n",
       "      <th>id</th>\n",
       "      <th>comment_text</th>\n",
       "      <th>toxic</th>\n",
       "      <th>severe_toxic</th>\n",
       "      <th>obscene</th>\n",
       "      <th>threat</th>\n",
       "      <th>insult</th>\n",
       "      <th>identity_hate</th>\n",
       "    </tr>\n",
       "  </thead>\n",
       "  <tbody>\n",
       "    <tr>\n",
       "      <th>0</th>\n",
       "      <td>0000997932d777bf</td>\n",
       "      <td>Explanation\\nWhy the edits made under my usern...</td>\n",
       "      <td>0</td>\n",
       "      <td>0</td>\n",
       "      <td>0</td>\n",
       "      <td>0</td>\n",
       "      <td>0</td>\n",
       "      <td>0</td>\n",
       "    </tr>\n",
       "    <tr>\n",
       "      <th>1</th>\n",
       "      <td>000103f0d9cfb60f</td>\n",
       "      <td>D'aww! He matches this background colour I'm s...</td>\n",
       "      <td>0</td>\n",
       "      <td>0</td>\n",
       "      <td>0</td>\n",
       "      <td>0</td>\n",
       "      <td>0</td>\n",
       "      <td>0</td>\n",
       "    </tr>\n",
       "    <tr>\n",
       "      <th>2</th>\n",
       "      <td>000113f07ec002fd</td>\n",
       "      <td>Hey man, I'm really not trying to edit war. It...</td>\n",
       "      <td>0</td>\n",
       "      <td>0</td>\n",
       "      <td>0</td>\n",
       "      <td>0</td>\n",
       "      <td>0</td>\n",
       "      <td>0</td>\n",
       "    </tr>\n",
       "    <tr>\n",
       "      <th>3</th>\n",
       "      <td>0001b41b1c6bb37e</td>\n",
       "      <td>\"\\nMore\\nI can't make any real suggestions on ...</td>\n",
       "      <td>0</td>\n",
       "      <td>0</td>\n",
       "      <td>0</td>\n",
       "      <td>0</td>\n",
       "      <td>0</td>\n",
       "      <td>0</td>\n",
       "    </tr>\n",
       "    <tr>\n",
       "      <th>4</th>\n",
       "      <td>0001d958c54c6e35</td>\n",
       "      <td>You, sir, are my hero. Any chance you remember...</td>\n",
       "      <td>0</td>\n",
       "      <td>0</td>\n",
       "      <td>0</td>\n",
       "      <td>0</td>\n",
       "      <td>0</td>\n",
       "      <td>0</td>\n",
       "    </tr>\n",
       "  </tbody>\n",
       "</table>\n",
       "</div>"
      ],
      "text/plain": [
       "                 id                                       comment_text  toxic  \\\n",
       "0  0000997932d777bf  Explanation\\nWhy the edits made under my usern...      0   \n",
       "1  000103f0d9cfb60f  D'aww! He matches this background colour I'm s...      0   \n",
       "2  000113f07ec002fd  Hey man, I'm really not trying to edit war. It...      0   \n",
       "3  0001b41b1c6bb37e  \"\\nMore\\nI can't make any real suggestions on ...      0   \n",
       "4  0001d958c54c6e35  You, sir, are my hero. Any chance you remember...      0   \n",
       "\n",
       "   severe_toxic  obscene  threat  insult  identity_hate  \n",
       "0             0        0       0       0              0  \n",
       "1             0        0       0       0              0  \n",
       "2             0        0       0       0              0  \n",
       "3             0        0       0       0              0  \n",
       "4             0        0       0       0              0  "
      ]
     },
     "execution_count": 58,
     "metadata": {},
     "output_type": "execute_result"
    }
   ],
   "source": [
    "# Displaying top rows of the training dataset\n",
    "train_df.head()"
   ]
  },
  {
   "cell_type": "code",
   "execution_count": 59,
   "id": "a3448a85-b51e-4702-bf5c-c874b8b6c5b5",
   "metadata": {
    "tags": []
   },
   "outputs": [
    {
     "data": {
      "text/html": [
       "<div>\n",
       "<style scoped>\n",
       "    .dataframe tbody tr th:only-of-type {\n",
       "        vertical-align: middle;\n",
       "    }\n",
       "\n",
       "    .dataframe tbody tr th {\n",
       "        vertical-align: top;\n",
       "    }\n",
       "\n",
       "    .dataframe thead th {\n",
       "        text-align: right;\n",
       "    }\n",
       "</style>\n",
       "<table border=\"1\" class=\"dataframe\">\n",
       "  <thead>\n",
       "    <tr style=\"text-align: right;\">\n",
       "      <th></th>\n",
       "      <th>toxic</th>\n",
       "      <th>severe_toxic</th>\n",
       "      <th>obscene</th>\n",
       "      <th>threat</th>\n",
       "      <th>insult</th>\n",
       "      <th>identity_hate</th>\n",
       "    </tr>\n",
       "  </thead>\n",
       "  <tbody>\n",
       "    <tr>\n",
       "      <th>count</th>\n",
       "      <td>63978.000000</td>\n",
       "      <td>63978.000000</td>\n",
       "      <td>63978.000000</td>\n",
       "      <td>63978.000000</td>\n",
       "      <td>63978.000000</td>\n",
       "      <td>63978.000000</td>\n",
       "    </tr>\n",
       "    <tr>\n",
       "      <th>mean</th>\n",
       "      <td>0.095189</td>\n",
       "      <td>0.005736</td>\n",
       "      <td>0.057692</td>\n",
       "      <td>0.003298</td>\n",
       "      <td>0.053565</td>\n",
       "      <td>0.011129</td>\n",
       "    </tr>\n",
       "    <tr>\n",
       "      <th>std</th>\n",
       "      <td>0.293478</td>\n",
       "      <td>0.075522</td>\n",
       "      <td>0.233161</td>\n",
       "      <td>0.057334</td>\n",
       "      <td>0.225160</td>\n",
       "      <td>0.104905</td>\n",
       "    </tr>\n",
       "    <tr>\n",
       "      <th>min</th>\n",
       "      <td>0.000000</td>\n",
       "      <td>0.000000</td>\n",
       "      <td>0.000000</td>\n",
       "      <td>0.000000</td>\n",
       "      <td>0.000000</td>\n",
       "      <td>0.000000</td>\n",
       "    </tr>\n",
       "    <tr>\n",
       "      <th>25%</th>\n",
       "      <td>0.000000</td>\n",
       "      <td>0.000000</td>\n",
       "      <td>0.000000</td>\n",
       "      <td>0.000000</td>\n",
       "      <td>0.000000</td>\n",
       "      <td>0.000000</td>\n",
       "    </tr>\n",
       "    <tr>\n",
       "      <th>50%</th>\n",
       "      <td>0.000000</td>\n",
       "      <td>0.000000</td>\n",
       "      <td>0.000000</td>\n",
       "      <td>0.000000</td>\n",
       "      <td>0.000000</td>\n",
       "      <td>0.000000</td>\n",
       "    </tr>\n",
       "    <tr>\n",
       "      <th>75%</th>\n",
       "      <td>0.000000</td>\n",
       "      <td>0.000000</td>\n",
       "      <td>0.000000</td>\n",
       "      <td>0.000000</td>\n",
       "      <td>0.000000</td>\n",
       "      <td>0.000000</td>\n",
       "    </tr>\n",
       "    <tr>\n",
       "      <th>max</th>\n",
       "      <td>1.000000</td>\n",
       "      <td>1.000000</td>\n",
       "      <td>1.000000</td>\n",
       "      <td>1.000000</td>\n",
       "      <td>1.000000</td>\n",
       "      <td>1.000000</td>\n",
       "    </tr>\n",
       "  </tbody>\n",
       "</table>\n",
       "</div>"
      ],
      "text/plain": [
       "              toxic  severe_toxic       obscene        threat        insult  \\\n",
       "count  63978.000000  63978.000000  63978.000000  63978.000000  63978.000000   \n",
       "mean       0.095189      0.005736      0.057692      0.003298      0.053565   \n",
       "std        0.293478      0.075522      0.233161      0.057334      0.225160   \n",
       "min        0.000000      0.000000      0.000000      0.000000      0.000000   \n",
       "25%        0.000000      0.000000      0.000000      0.000000      0.000000   \n",
       "50%        0.000000      0.000000      0.000000      0.000000      0.000000   \n",
       "75%        0.000000      0.000000      0.000000      0.000000      0.000000   \n",
       "max        1.000000      1.000000      1.000000      1.000000      1.000000   \n",
       "\n",
       "       identity_hate  \n",
       "count   63978.000000  \n",
       "mean        0.011129  \n",
       "std         0.104905  \n",
       "min         0.000000  \n",
       "25%         0.000000  \n",
       "50%         0.000000  \n",
       "75%         0.000000  \n",
       "max         1.000000  "
      ]
     },
     "execution_count": 59,
     "metadata": {},
     "output_type": "execute_result"
    }
   ],
   "source": [
    "# Reading test data and labels to be utilized later for evaluation\n",
    "test_df = pd.read_csv('/Users/aasthatandon/jigsaw-toxic-comment-classification-challenge/test.csv')\n",
    "test_label = pd.read_csv('/Users/aasthatandon/jigsaw-toxic-comment-classification-challenge/test_labels.csv')\n",
    "\n",
    "# Concatenating test data and their corresponding labels in a single dataframe test_df\n",
    "test_df = pd.concat([test_df,test_label],axis=1)\n",
    "test_df.head() #Displaying top rows of the test dataset\n",
    "\n",
    "test_data = test_df[test_df['toxic'] != -1] # removing rows with -1 values in toxic column\n",
    "test_data = test_data.reset_index(drop=True) # resetting the index after deletion\n",
    "test_data.describe()# this is just to checking minimum value,conclusion below"
   ]
  },
  {
   "cell_type": "markdown",
   "id": "e0898d19-733d-4dd5-8238-8f49a97dc460",
   "metadata": {
    "tags": []
   },
   "source": [
    "Already explained in Task 1 written below for reference.\n",
    "\n",
    "Although ```describe()``` is not ideal for categorical variables, after removing -1 from the \"toxic\" column, checking the minimum values reveals that they are now 0 instead of -1. This suggests successful removal of all -1 instances, further supported by their likely mutual exclusivity in the column."
   ]
  },
  {
   "cell_type": "markdown",
   "id": "47997698-f021-4c58-993d-d61b24797789",
   "metadata": {
    "tags": []
   },
   "source": [
    "### Step 2 : Exploratory data analysis"
   ]
  },
  {
   "cell_type": "markdown",
   "id": "5e03e0b7-1847-41a6-ae3e-d5bbe558f46a",
   "metadata": {},
   "source": [
    "Following things have been done in Task 1, hence not repeating here :\n",
    "\n",
    "- Checking for Missing values\n",
    "- Checking for -1 values in each label  for training dataset.\n",
    "- Histogram plot for length of each comment\n",
    "- Distribution of class labels \n",
    "- Word Cloud for most frequent words in each class"
   ]
  },
  {
   "cell_type": "markdown",
   "id": "ca5e1afc-8759-4bd7-8f6f-262c5aa5e2dd",
   "metadata": {},
   "source": [
    "### Step 3 : Data Preparation"
   ]
  },
  {
   "cell_type": "code",
   "execution_count": 60,
   "id": "a26ca2f7-ab85-41fc-808c-30f603c48d8c",
   "metadata": {
    "tags": []
   },
   "outputs": [],
   "source": [
    "# stop words and stemmer\n",
    "stop = stopwords.words('english')\n",
    "stemmer = PorterStemmer()\n",
    "\n",
    "\n",
    "# text preprocessing \n",
    "def document_tokenizer(doc):\n",
    "    \"\"\"\n",
    "    given a sentence it converts\n",
    "    it into words after cleaning\n",
    "    \"\"\"\n",
    "    \n",
    "    # tokenizing sentence to words,removing stop words and considering only letter words\n",
    "    lowercase = [i.lower() for i in nltk.word_tokenize(doc) \\\n",
    "               if i.lower() not in stop and i.isalpha()] \n",
    "        \n",
    "    ''' removing words containing consecutively 3 or more repeated letters, \n",
    "    such as 'heyyyyyy', 'hmmmmmmmmmm', or 'ohhh' '''\n",
    "    repeat = []\n",
    "    for word in lowercase:\n",
    "        if re.findall('(\\w)\\\\1{3,}', word) != []:\n",
    "            repeat.append(word)\n",
    "    \n",
    "    lowercase = [word for word in lowercase if word not in repeat]\n",
    "    \n",
    "    # appying stemming after above cleaning\n",
    "    normalized = [stemmer.stem(i) for i in lowercase] # stem the each words\n",
    "    \n",
    "    '''only considering words whose length is greater than 2 because \n",
    "    generally 2 letter words like \"to\",\"so\" etc doesnot convey anything meaningful'''\n",
    "    words = [word for word in normalized if len(word) > 2]\n",
    "    return words\n"
   ]
  },
  {
   "cell_type": "code",
   "execution_count": 62,
   "id": "1419555b-3731-428b-8ef4-9e82ebd1cac1",
   "metadata": {
    "tags": []
   },
   "outputs": [
    {
     "name": "stdout",
     "output_type": "stream",
     "text": [
      "Training data size: 127656\n",
      "Validation data size: 31915\n"
     ]
    }
   ],
   "source": [
    "from sklearn.model_selection import train_test_split\n",
    "\n",
    "# Splitting the data into training and validation sets\n",
    "train_data, valid_data = train_test_split(df, test_size=0.2, random_state=42)\n",
    "train_data = train_data.reset_index(drop=True)\n",
    "valid_data = valid_data.reset_index(drop=True)\n",
    "\n",
    "# Printing the sizes of the training and validation datasets\n",
    "print(\"Training data size:\", len(train_data))\n",
    "print(\"Validation data size:\", len(valid_data))\n"
   ]
  },
  {
   "cell_type": "markdown",
   "id": "75cc1e46-08a2-4374-b1d4-8b5b50bfd905",
   "metadata": {},
   "source": [
    "The ```read_glove_vecs``` function reads a GloVe word embedding file ```'glove.6B.50d.txt'``` which has  6 billion words and 50-dimensional embedding vector for each word. We are using glove.6B.50d.txt\" because of its general-purpose nature,light-weight, balanced dimensionality, and widespread adoption.\n",
    "\n",
    "This function returns ```word-to-index``` and ```index-to-word``` mappings, and returns a dictionary containing ```word-to-vector``` mappings."
   ]
  },
  {
   "cell_type": "code",
   "execution_count": 64,
   "id": "66dc9ea7-a572-4d4f-b17d-70e9314c4fa7",
   "metadata": {
    "tags": []
   },
   "outputs": [],
   "source": [
    "def read_glove_vecs(glove_file):\n",
    "    \"\"\"\n",
    "    Reads a GloVe word embedding file and processes it.\n",
    "    \n",
    "    Parameters:\n",
    "    glove_file (str): Path to the GloVe file.\n",
    "    \n",
    "    Returns:\n",
    "    words_to_index (dict): Dictionary mapping words to indices.\n",
    "    index_to_words (dict): Dictionary mapping indices to words.\n",
    "    word_to_vec_map (dict): Dictionary mapping words to their vector representations.\n",
    "    \"\"\"\n",
    "    \n",
    "    # Opening the GloVe file\n",
    "    with open(glove_file, 'r', encoding=\"utf8\") as f:\n",
    "        words = set()\n",
    "        word_to_vec_map = {}\n",
    "        \n",
    "        # Processing each line in the file\n",
    "        for line in f:\n",
    "            line = line.strip().split()\n",
    "            curr_word = line[0]\n",
    "            words.add(curr_word)\n",
    "            word_to_vec_map[curr_word] = np.array(line[1:], dtype=np.float64)\n",
    "        \n",
    "        i = 1\n",
    "        words_to_index = {}\n",
    "        index_to_words = {}\n",
    "        \n",
    "        # Creating word-to-index and index-to-word mappings\n",
    "        for w in sorted(words):\n",
    "            words_to_index[w] = i\n",
    "            index_to_words[i] = w\n",
    "            i = i + 1\n",
    "    \n",
    "    return words_to_index, index_to_words, word_to_vec_map\n",
    "\n",
    "# Reading the GloVe vectors from 'glove.6B.50d.txt'\n",
    "words_to_index, index_to_words, word_to_vec_map = read_glove_vecs('glove.6B.50d.txt')\n"
   ]
  },
  {
   "cell_type": "code",
   "execution_count": 66,
   "id": "6a2ad896-7630-4534-8578-1bb0cfdeb0ad",
   "metadata": {
    "tags": []
   },
   "outputs": [],
   "source": [
    "# obtaining sentence embedding\n",
    "def sentences_to_embedding(X, word_to_vec_map, max_len, embedding_length=50): # (m, maxLen, 50)\n",
    "    \"\"\"\n",
    "    Converts an array of sentences (strings) into an array of word embedding vectors corresponding to words in the sentences.\n",
    "    \n",
    "    args:\n",
    "        X: array of sentences (strings), of shape (m, 1)\n",
    "        word_to_vec_map: a dictionary containing the each word mapped to its embedding vector\n",
    "        max_len: maximum number of words in a sentence. You can assume every sentence in X is no longer than this. \n",
    "        embedding_length: 50 in this case when using glove.6B.50d.txt\n",
    "    \n",
    "    return:\n",
    "    data_array: array of embedding vectors corresponding to words in the sentences from X, of shape (m, max_len, embedding_length)\n",
    "    \"\"\"\n",
    "    \n",
    "    m = X.shape[0] # number of training examples\n",
    "    \n",
    "    # Initialize data_array as a numpy matrix of zeros and the correct shape\n",
    "    data_array = np.zeros((m, max_len, embedding_length))\n",
    "    \n",
    "    for i in range(m): # loop over training examples\n",
    "        word_tokens = document_tokenizer(X[i])\n",
    "\n",
    "        # Convert the ith training sentence in lower case and split is into words. You should get a list of words.\n",
    "        sentence_words = word_tokens[0:max_len]\n",
    "\n",
    "        # Loop over the words of sentence_words\n",
    "        for index_w, w in enumerate(sentence_words):\n",
    "            data_array[i, index_w, :] = word_to_vec_map.get(w, np.zeros((50))) # in this case, if the sentence has less than max_len words, we don't need to pad, since the data_array is initialized to have the zeros\n",
    "\n",
    "        # also note that the max_len is the len of the longest sentence, so we will not get index out of bound error\n",
    "    \n",
    "    return data_array\n",
    "    "
   ]
  },
  {
   "cell_type": "code",
   "execution_count": 67,
   "id": "e83816fb-2d74-4b5b-a800-4eb353b4137d",
   "metadata": {
    "tags": []
   },
   "outputs": [],
   "source": [
    "def get_data_matrix_using_glove_emb(df, max_len=50, col='comment_text'):\n",
    "    \"\"\"\n",
    "    Obtains a data matrix by converting text data in a DataFrame column into word embedding vectors using GloVe embeddings.\n",
    "    \n",
    "    Args:\n",
    "        df (DataFrame): Input DataFrame containing text data.\n",
    "        max_len (int): Maximum number of words in a sentence (default: 50).\n",
    "        col (str): Column name in the DataFrame containing text data (default: 'comment_text').\n",
    "    \n",
    "    Returns:\n",
    "        X_array (array): Data matrix with word embedding vectors, shape (m, max_len, embedding_length).\n",
    "    \"\"\"\n",
    "    X = df[col].tolist()\n",
    "    X = np.asarray(X)\n",
    "    X_array = sentences_to_embedding(X, word_to_vec_map, max_len=max_len)\n",
    "    return X_array\n"
   ]
  },
  {
   "cell_type": "code",
   "execution_count": 68,
   "id": "1a8da0fb-50e8-4c06-a52a-145bc90fee54",
   "metadata": {
    "tags": []
   },
   "outputs": [],
   "source": [
    "# converts the text data from datasets into data matrices using GloVe word embeddings.\n",
    "X_train = get_data_matrix_using_glove_emb(train_data, col='comment_text')\n",
    "X_valid = get_data_matrix_using_glove_emb(valid_data, col='comment_text')\n",
    "X_test = get_data_matrix_using_glove_emb(test_data, col='comment_text')"
   ]
  },
  {
   "cell_type": "code",
   "execution_count": 69,
   "id": "ec919c1b-facf-4334-9a0e-0b96f4fd343f",
   "metadata": {
    "tags": []
   },
   "outputs": [
    {
     "data": {
      "text/plain": [
       "(127656, 50, 50)"
      ]
     },
     "execution_count": 69,
     "metadata": {},
     "output_type": "execute_result"
    }
   ],
   "source": [
    "X_train.shape # Displaying shape"
   ]
  },
  {
   "cell_type": "markdown",
   "id": "5cc08fd1-bf6a-40d7-a656-4c59b370ccd2",
   "metadata": {},
   "source": [
    "### Step 4 : Build Model"
   ]
  },
  {
   "cell_type": "code",
   "execution_count": 70,
   "id": "8128181c-d7a6-421f-bce7-eb2b11d72dd2",
   "metadata": {
    "tags": []
   },
   "outputs": [],
   "source": [
    "def build_lstm_model(input_shape=(50, 50)):\n",
    "    \"\"\"\n",
    "    Builds an LSTM model for multi-label classification.\n",
    "    \n",
    "    Args:\n",
    "        input_shape (tuple): Shape of the input data (default: (50, 50)).\n",
    "    \n",
    "    Returns:\n",
    "        model (tf.keras.models.Model): Constructed LSTM model.\n",
    "    \"\"\"\n",
    "    \n",
    "    inputs = tf.keras.layers.Input(shape=input_shape)\n",
    "    \n",
    "    # LSTM layer\n",
    "    lstm = LSTM(50, dropout=0.2, return_sequences=False, return_state=False)(inputs)\n",
    "    \n",
    "    # Fully connected layer\n",
    "    fc1 = Dense(128, activation='relu')(lstm)\n",
    "    fc1_bn = BatchNormalization()(fc1)\n",
    "    fc1_drop = Dropout(0.4)(fc1_bn)\n",
    "\n",
    "    # Output layer\n",
    "    output = Dense(6, activation='sigmoid')(fc1_drop)\n",
    "\n",
    "    # Create the model\n",
    "    model = tf.keras.models.Model(inputs=inputs, outputs=output, name='LSTM_model')\n",
    "    \n",
    "    # Compile the model\n",
    "    opt = tf.keras.optimizers.Adam(\n",
    "        learning_rate=0.0005, beta_1=0.9, beta_2=0.999, decay=0.01\n",
    "    )\n",
    "    model.compile(\n",
    "        optimizer=opt, loss=tf.keras.losses.BinaryCrossentropy(),\n",
    "        metrics=[tf.metrics.BinaryAccuracy(), tf.metrics.AUC(multi_label=True, name='auc')]\n",
    "    )\n",
    "    \n",
    "    model.summary()\n",
    "    return model\n"
   ]
  },
  {
   "cell_type": "code",
   "execution_count": 71,
   "id": "69687797-5928-4fbf-9f44-2c26fef88c9d",
   "metadata": {
    "tags": []
   },
   "outputs": [
    {
     "name": "stdout",
     "output_type": "stream",
     "text": [
      "Model: \"LSTM_model\"\n",
      "_________________________________________________________________\n",
      " Layer (type)                Output Shape              Param #   \n",
      "=================================================================\n",
      " input_3 (InputLayer)        [(None, 50, 50)]          0         \n",
      "                                                                 \n",
      " lstm_2 (LSTM)               (None, 50)                20200     \n",
      "                                                                 \n",
      " dense_4 (Dense)             (None, 128)               6528      \n",
      "                                                                 \n",
      " batch_normalization_2 (Batc  (None, 128)              512       \n",
      " hNormalization)                                                 \n",
      "                                                                 \n",
      " dropout_2 (Dropout)         (None, 128)               0         \n",
      "                                                                 \n",
      " dense_5 (Dense)             (None, 6)                 774       \n",
      "                                                                 \n",
      "=================================================================\n",
      "Total params: 28,014\n",
      "Trainable params: 27,758\n",
      "Non-trainable params: 256\n",
      "_________________________________________________________________\n"
     ]
    }
   ],
   "source": [
    "lstm_model = build_lstm_model()"
   ]
  },
  {
   "cell_type": "markdown",
   "id": "60944949-47a7-4348-8827-718d3a00b270",
   "metadata": {},
   "source": [
    "Fitting the LSTM model to the training data and evaluating it on the validation data."
   ]
  },
  {
   "cell_type": "code",
   "execution_count": 72,
   "id": "22af8a1a-c2d8-4bbe-b6f0-5940a5cd631b",
   "metadata": {
    "tags": []
   },
   "outputs": [
    {
     "name": "stdout",
     "output_type": "stream",
     "text": [
      "Epoch 1/15\n",
      "1995/1995 [==============================] - 67s 31ms/step - loss: 0.3011 - binary_accuracy: 0.9386 - auc: 0.5387 - val_loss: 0.1781 - val_binary_accuracy: 0.9631 - val_auc: 0.6606\n",
      "Epoch 2/15\n",
      "1995/1995 [==============================] - 60s 30ms/step - loss: 0.1599 - binary_accuracy: 0.9633 - auc: 0.6593 - val_loss: 0.1384 - val_binary_accuracy: 0.9633 - val_auc: 0.7782\n",
      "Epoch 3/15\n",
      "1995/1995 [==============================] - 60s 30ms/step - loss: 0.1274 - binary_accuracy: 0.9652 - auc: 0.7817 - val_loss: 0.1130 - val_binary_accuracy: 0.9677 - val_auc: 0.8434\n",
      "Epoch 4/15\n",
      "1995/1995 [==============================] - 59s 29ms/step - loss: 0.1146 - binary_accuracy: 0.9669 - auc: 0.8018 - val_loss: 0.1053 - val_binary_accuracy: 0.9686 - val_auc: 0.8688\n",
      "Epoch 5/15\n",
      "1995/1995 [==============================] - 58s 29ms/step - loss: 0.1093 - binary_accuracy: 0.9674 - auc: 0.8143 - val_loss: 0.1011 - val_binary_accuracy: 0.9693 - val_auc: 0.8792\n",
      "Epoch 6/15\n",
      "1995/1995 [==============================] - 60s 30ms/step - loss: 0.1053 - binary_accuracy: 0.9681 - auc: 0.8378 - val_loss: 0.0983 - val_binary_accuracy: 0.9697 - val_auc: 0.8826\n",
      "Epoch 7/15\n",
      "1995/1995 [==============================] - 70s 35ms/step - loss: 0.1032 - binary_accuracy: 0.9685 - auc: 0.8420 - val_loss: 0.0963 - val_binary_accuracy: 0.9699 - val_auc: 0.8859\n",
      "Epoch 8/15\n",
      "1995/1995 [==============================] - 58s 29ms/step - loss: 0.1011 - binary_accuracy: 0.9688 - auc: 0.8453 - val_loss: 0.0948 - val_binary_accuracy: 0.9701 - val_auc: 0.8946\n",
      "Epoch 9/15\n",
      "1995/1995 [==============================] - 58s 29ms/step - loss: 0.1003 - binary_accuracy: 0.9689 - auc: 0.8527 - val_loss: 0.0936 - val_binary_accuracy: 0.9702 - val_auc: 0.8974\n",
      "Epoch 10/15\n",
      "1995/1995 [==============================] - 59s 29ms/step - loss: 0.0989 - binary_accuracy: 0.9690 - auc: 0.8610 - val_loss: 0.0927 - val_binary_accuracy: 0.9704 - val_auc: 0.9000\n",
      "Epoch 11/15\n",
      "1995/1995 [==============================] - 58s 29ms/step - loss: 0.0981 - binary_accuracy: 0.9692 - auc: 0.8645 - val_loss: 0.0919 - val_binary_accuracy: 0.9706 - val_auc: 0.8999\n",
      "Epoch 12/15\n",
      "1995/1995 [==============================] - 59s 29ms/step - loss: 0.0969 - binary_accuracy: 0.9694 - auc: 0.8691 - val_loss: 0.0913 - val_binary_accuracy: 0.9708 - val_auc: 0.9001\n",
      "Epoch 13/15\n",
      "1995/1995 [==============================] - 58s 29ms/step - loss: 0.0959 - binary_accuracy: 0.9697 - auc: 0.8716 - val_loss: 0.0906 - val_binary_accuracy: 0.9708 - val_auc: 0.9026\n",
      "Epoch 14/15\n",
      "1995/1995 [==============================] - 58s 29ms/step - loss: 0.0955 - binary_accuracy: 0.9697 - auc: 0.8740 - val_loss: 0.0902 - val_binary_accuracy: 0.9709 - val_auc: 0.9045\n",
      "Epoch 15/15\n",
      "1995/1995 [==============================] - 58s 29ms/step - loss: 0.0950 - binary_accuracy: 0.9700 - auc: 0.8755 - val_loss: 0.0897 - val_binary_accuracy: 0.9709 - val_auc: 0.9041\n"
     ]
    }
   ],
   "source": [
    "target_columns = ['toxic', 'severe_toxic', 'obscene', 'threat','insult', 'identity_hate']\n",
    "\n",
    "y_train = train_data[target_columns]\n",
    "y_valid = valid_data[target_columns]\n",
    "\n",
    "# fit the model\n",
    "lstm_history = lstm_model.fit(\n",
    "    X_train, y_train, \n",
    "    validation_data=(X_valid, y_valid), \n",
    "    batch_size=64, epochs=15\n",
    ")\n"
   ]
  },
  {
   "cell_type": "markdown",
   "id": "7e7eafe1-12a1-4239-a5f4-6fe6edd95a92",
   "metadata": {},
   "source": [
    "#### Plotting the model histories"
   ]
  },
  {
   "cell_type": "code",
   "execution_count": 73,
   "id": "6e22d449-d298-4516-b413-06e5aba06cbe",
   "metadata": {
    "tags": []
   },
   "outputs": [],
   "source": [
    "def plot_history_models(histories, key='loss', ylim=[0, 1]):\n",
    "    plt.figure(figsize=(7,5), dpi=150)\n",
    "    for name, history in histories:\n",
    "        val = plt.plot(history.epoch, history.history['val_'+key],\n",
    "                   '--', label=name.title()+' Val')\n",
    "        plt.plot(history.epoch, history.history[key], color=val[0].get_color(),\n",
    "             label=name.title()+' Train')\n",
    "\n",
    "    plt.xlabel('Epochs')\n",
    "    plt.ylabel(key.replace('_',' ').title())\n",
    "    plt.legend()\n",
    "\n",
    "    plt.xlim([0, max(history.epoch)])\n",
    "    plt.ylim(ylim)\n",
    "    plt.grid()"
   ]
  },
  {
   "cell_type": "code",
   "execution_count": 74,
   "id": "548d889d-696b-46a7-b228-41314f817b19",
   "metadata": {},
   "outputs": [
    {
     "data": {
      "image/png": "[encoded data removed]",
      "text/plain": [
       "<Figure size 1050x750 with 1 Axes>"
      ]
     },
     "metadata": {
      "needs_background": "light"
     },
     "output_type": "display_data"
    },
    {
     "data": {
      "image/png": "[encoded data removed]",
      "text/plain": [
       "<Figure size 1050x750 with 1 Axes>"
      ]
     },
     "metadata": {
      "needs_background": "light"
     },
     "output_type": "display_data"
    },
    {
     "data": {
      "image/png": "[encoded data removed]",
      "text/plain": [
       "<Figure size 1050x750 with 1 Axes>"
      ]
     },
     "metadata": {
      "needs_background": "light"
     },
     "output_type": "display_data"
    }
   ],
   "source": [
    "plot_history_models([('LSTM_Model', lstm_history)], key='loss', ylim=[0,1.0])\n",
    "plot_history_models([('LSTM_Model', lstm_history)], key='auc', ylim=[0,1.0])\n",
    "plot_history_models([('LSTM_Model', lstm_history)], key='binary_accuracy', ylim=[0, 1.0])"
   ]
  },
  {
   "cell_type": "markdown",
   "id": "e26d3c7f-8961-4799-94ae-2a1cb09e3d53",
   "metadata": {
    "tags": []
   },
   "source": [
    "We can say from graphs our model has converged fairly "
   ]
  },
  {
   "cell_type": "code",
   "execution_count": 75,
   "id": "d8276ec2-ca8a-4a9d-a9e6-0f53538cb8a5",
   "metadata": {
    "tags": []
   },
   "outputs": [],
   "source": [
    "def compute_classwise_metrics(model, X, y, conf_th=0.5, name='Validation'):\n",
    "    \"\"\"\n",
    "    Computes class-wise metrics for a given model's predictions.\n",
    "    \n",
    "    Args:\n",
    "        model: Trained model to compute predictions.\n",
    "        X: Input data for predictions.\n",
    "        y: True labels for the data.\n",
    "        conf_th: Confidence threshold for binary predictions (default: 0.5).\n",
    "        name: Name of the dataset (default: 'Validation').\n",
    "    \"\"\"\n",
    "    predictions = model.predict(X)\n",
    "    \n",
    "    print(\"{} - Metrics computation @ conf_th = {}\\n\".format(name, conf_th))\n",
    "    \n",
    "    for idx, cls_ in enumerate(target_columns):\n",
    "        cls_prob = predictions[:, idx]\n",
    "        pred = [1 if prob >= conf_th else 0 for prob in cls_prob]\n",
    "        gt = y[cls_]\n",
    "    \n",
    "        print('{} accuracy for {} is {}'.format(name, cls_, accuracy_score(gt, pred)))\n"
   ]
  },
  {
   "cell_type": "code",
   "execution_count": 76,
   "id": "60153435-1555-4439-9759-da8988a90731",
   "metadata": {
    "tags": []
   },
   "outputs": [
    {
     "name": "stdout",
     "output_type": "stream",
     "text": [
      "998/998 [==============================] - 9s 9ms/step\n",
      "Validation - Metrics computation @ conf_th = 0.5\n",
      "\n",
      "Validation accuracy for toxic is 0.9302835657214475\n",
      "Validation accuracy for severe_toxic is 0.9900673664421119\n",
      "Validation accuracy for obscene is 0.9582014726617578\n",
      "Validation accuracy for threat is 0.9976500078333073\n",
      "Validation accuracy for insult is 0.9586401378662072\n",
      "Validation accuracy for identity_hate is 0.9908193639354536\n"
     ]
    }
   ],
   "source": [
    "compute_classwise_metrics(lstm_model, X_valid, y_valid)"
   ]
  },
  {
   "cell_type": "markdown",
   "id": "dc3817b3-4be2-4825-8717-19d36fff8daf",
   "metadata": {},
   "source": [
    "Due to computation constraint we only trained the model for 15 epochs. "
   ]
  },
  {
   "cell_type": "code",
   "execution_count": 77,
   "id": "f69f0322-3836-4eb3-9f7b-4fecd6b31b78",
   "metadata": {
    "tags": []
   },
   "outputs": [
    {
     "name": "stdout",
     "output_type": "stream",
     "text": [
      "2000/2000 [==============================] - 17s 9ms/step\n",
      "Test - Metrics computation @ conf_th = 0.5\n",
      "\n",
      "Test accuracy for toxic is 0.9128294101097252\n",
      "Test accuracy for severe_toxic is 0.9941073494013567\n",
      "Test accuracy for obscene is 0.9464503423051674\n",
      "Test accuracy for threat is 0.9966863609365719\n",
      "Test accuracy for insult is 0.9486229641439244\n",
      "Test accuracy for identity_hate is 0.9887773922285785\n"
     ]
    }
   ],
   "source": [
    "# Test related evaluation\n",
    "y_test = test_data[target_columns]\n",
    "compute_classwise_metrics(lstm_model, X_test, y_test, name='Test')"
   ]
  },
  {
   "cell_type": "markdown",
   "id": "d4c9347a-db5a-4778-abb6-f2b7750e4d5a",
   "metadata": {},
   "source": [
    "Comparing this test set result with the result of **Method-3** from **Task-1**, we notice they are almost very similar. Overally LSTM model achiever slightly better accuracy. "
   ]
  },
  {
   "cell_type": "markdown",
   "id": "d460aa58-97f3-4a74-8178-41a83470c8e3",
   "metadata": {},
   "source": [
    "Following are reasons to choose a Neural Network (NN) model like LSTM over traditional ML approach\n",
    "\n",
    "- We used neural network, since we have fairly large amount of data available in this corpus. Neural networks can easily overfit if we have small amount of data. \n",
    "- LSTM can better model the relationships between words in given input sequence, hence offering a better contextual understanding. \n",
    "- Also, in general in traditional ML approach requires heavy manual feature engineering, which can be avoided using NN"
   ]
  },
  {
   "cell_type": "code",
   "execution_count": null,
   "id": "075f304d-daf6-4cfc-a59d-e6b1fb7d5393",
   "metadata": {},
   "outputs": [],
   "source": []
  }
 ],
 "metadata": {
  "kernelspec": {
   "display_name": "Python 3",
   "language": "python",
   "name": "python3"
  },
  "language_info": {
   "codemirror_mode": {
    "name": "ipython",
    "version": 3
   },
   "file_extension": ".py",
   "mimetype": "text/x-python",
   "name": "python",
   "nbconvert_exporter": "python",
   "pygments_lexer": "ipython3",
   "version": "3.8.16"
  }
 },
 "nbformat": 4,
 "nbformat_minor": 5
}
